{
 "cells": [
  {
   "cell_type": "markdown",
   "metadata": {},
   "source": [
    "# EGL-19 Parameter Fitting"
   ]
  },
  {
   "cell_type": "markdown",
   "metadata": {},
   "source": [
    "### Setup & Data Import"
   ]
  },
  {
   "cell_type": "code",
   "execution_count": 206,
   "metadata": {},
   "outputs": [],
   "source": [
    "import csv\n",
    "import numpy as np\n",
    "import math\n",
    "import matplotlib\n",
    "import matplotlib.pyplot as plt\n",
    "import random\n",
    "import operator\n",
    "import statistics\n",
    "import time\n",
    "from IPython import display"
   ]
  },
  {
   "cell_type": "code",
   "execution_count": 207,
   "metadata": {},
   "outputs": [
    {
     "data": {
      "text/plain": [
       "<matplotlib.collections.PathCollection at 0x1044d6780>"
      ]
     },
     "execution_count": 207,
     "metadata": {},
     "output_type": "execute_result"
    },
    {
     "data": {
      "image/png": "[encoded data removed]",
      "text/plain": [
       "<Figure size 432x288 with 1 Axes>"
      ]
     },
     "metadata": {},
     "output_type": "display_data"
    }
   ],
   "source": [
    "# Import patch clamp data for ion channel\n",
    "with open('../data/EGL-19_patch_clamp.csv', 'r') as f:\n",
    "    reader = csv.reader(f, quoting=csv.QUOTE_NONNUMERIC)\n",
    "    patch_clamp_data = np.array(list(reader))\n",
    "    \n",
    "# Use x-coordinates to evaluate candidate functions later\n",
    "data_range = patch_clamp_data[:,:1]\n",
    "\n",
    "# Plot IV curve for patch clamp experiment\n",
    "x, y = patch_clamp_data.T\n",
    "plt.xlabel('Membrane Potential (mV)')\n",
    "plt.ylabel('Current (pA)')\n",
    "plt.title('I/V Curve for EGL-19 Voltage-Gated Calcium Channel')\n",
    "plt.scatter(x,y)"
   ]
  },
  {
   "cell_type": "markdown",
   "metadata": {},
   "source": [
    "### Simulation Helper Functions"
   ]
  },
  {
   "cell_type": "code",
   "execution_count": 208,
   "metadata": {},
   "outputs": [],
   "source": [
    "# Define Hodgkin-Huxley ion channel model\n",
    "# Put a cutoff on the argument to the exponential\n",
    "def i(gmax, Vhalf, k, Vrev, V): \n",
    "    diffR = V - Vrev\n",
    "    diffH = Vhalf - V\n",
    "    num = float(gmax)\n",
    "    denom = 1 + math.exp(min(diffH/k, 700))\n",
    "    return (num / denom)*diffR\n",
    "\n",
    "# Generate candidate solutions\n",
    "# Ranges: \n",
    "# Gmax- [0, 1]\n",
    "# Vhalf- [0, 1]\n",
    "# k- [0, 5]\n",
    "# Vrev- [0, 70]\n",
    "\n",
    "# Constants\n",
    "pop_size = 100\n",
    "twin = 1000\n",
    "ru = random.uniform\n",
    "\n",
    "def create_first_gen(n):\n",
    "    return [[ru(0,1), ru(0,1), ru(0,5), ru(0,70)] for x in range(n)]\n",
    "\n",
    "def cost_func(m1, m2):\n",
    "    return np.linalg.norm(np.array(m1)-np.array(m2), ord=2)\n",
    "\n",
    "def calculate_norm(params, time_series):\n",
    "    global append_values\n",
    "    data_range = patch_clamp_data[:,:1]\n",
    "    data_values = [x[1] for x in patch_clamp_data]\n",
    "    append_values = [np.insert(params, 4, x, axis=0) for x in data_range]\n",
    "    test_values = [i(x[0], x[1], x[2], x[3], x[4]) for x in append_values]\n",
    "    return cost_func(test_values, data_values)\n",
    "\n",
    "def generate_parameter_space(p_gen, time_series):\n",
    "    all_norms = [[x, calculate_norm(x, time_series)] for x in p_gen]\n",
    "    sorted_norms = all_norms.sort(key=operator.itemgetter(1))\n",
    "    best_candidate = sorted_norms[0][0]\n",
    "    return [random_gaussian_drift(best_candidate) for x in range(pop_size)]"
   ]
  },
  {
   "cell_type": "markdown",
   "metadata": {},
   "source": [
    "### Mutation Operators"
   ]
  },
  {
   "cell_type": "code",
   "execution_count": 209,
   "metadata": {},
   "outputs": [],
   "source": [
    "\"\"\"\n",
    "Mutations operators:\n",
    "1) Random mutation over the parameter space\n",
    "2) Random Guassian drift centered around current value with 5% variance\n",
    "\"\"\"\n",
    "\n",
    "def random_mutation(x, n):\n",
    "    choices = {0: ru(0,1), 1: ru(0,1), 2: ru(0,5), 3: ru(0,70)}\n",
    "    return choices[n]\n",
    "\n",
    "def random_gaussian_drift(x):\n",
    "    return np.random.normal(x, .05*x)\n",
    "\n",
    "def mutate(x, n):\n",
    "    bool = ru(0,1) < .01\n",
    "    if bool:\n",
    "        if bool(random.getrandbits(1)):\n",
    "            return random_mutation(x,n)\n",
    "        else: \n",
    "            return random_gaussian_drift(x)\n",
    "    else: \n",
    "        return x\n",
    "\n",
    "def one_point_swap(list1, list2, n):\n",
    "    temp = list1[n]\n",
    "    list1[n] = list2[n]\n",
    "    list2[n] = temp\n",
    "    return list1, list2\n",
    "\n",
    "def random_crossover(list1, list2):\n",
    "    return one_point_swap(list1, list2, random.randint(0,3))\n",
    "\n",
    "def check_threshold(sim_hist):\n",
    "    if len(sim_hist) < 2:\n",
    "        return 1\n",
    "    else:\n",
    "        return statistics.variance(sim_hist[-twin:])"
   ]
  },
  {
   "cell_type": "markdown",
   "metadata": {},
   "source": [
    "### Display Functions"
   ]
  },
  {
   "cell_type": "code",
   "execution_count": 219,
   "metadata": {},
   "outputs": [],
   "source": [
    "def make_grid(current_round, norm_values):\n",
    "    print(\"Current Round: \", current_round)\n",
    "    plt.xlabel('Number of Generations')\n",
    "    plt.ylabel('Fitness of Best Solution')\n",
    "    plt.title('Simulation History')\n",
    "    plt.scatter(range(1,len(norm_values)+1), norm_values)\n",
    "    display.clear_output(wait=True)\n",
    "    display.display(pl.gcf())\n",
    "    \n",
    "def display_results(sim_norms):\n",
    "    return 0"
   ]
  },
  {
   "cell_type": "markdown",
   "metadata": {},
   "source": [
    "### Core Simulation Functions"
   ]
  },
  {
   "cell_type": "code",
   "execution_count": 215,
   "metadata": {},
   "outputs": [],
   "source": [
    "def ion_channel_fit(time_series):\n",
    "    global running_tally\n",
    "    global num_rounds\n",
    "    global start_AS\n",
    "    global living\n",
    "    global norms\n",
    "    global all_orgs\n",
    "    global total_solutions\n",
    "    global running_tally\n",
    "    global new_parameter_space\n",
    "    global temp\n",
    "    num_rounds  = 0\n",
    "    start_AS = 1000\n",
    "    living = []\n",
    "    norms = []\n",
    "    all_orgs = []\n",
    "    total_solutions = 0\n",
    "    running_tally = []\n",
    "    \n",
    "    while(check_threshold(running_tally) > 10^-5):\n",
    "        num_rounds = num_rounds + 1\n",
    "        \n",
    "        \"\"\"\n",
    "            1) Set the parameter space / \"organisms\" for the current round.\n",
    "            2) Reset the list $living{} so that the current surviving organisms will be added to it.\n",
    "            3) Calculate all the norms of the current set.  Sort, and retain the highest scoring individual.\n",
    "            4) New addition: Adaptive sampling\n",
    "        \"\"\"\n",
    "        \n",
    "        if num_rounds == 1:\n",
    "            new_parameter_space = create_first_gen(100)\n",
    "        \n",
    "        elif 2 <= num_rounds <= start_AS:\n",
    "            new_parameter_space = living\n",
    "        \n",
    "        else:\n",
    "            new_parameter_space = generate_parameter_space(living, time_series)\n",
    "        \n",
    "        \"\"\"\n",
    "        This next section simply ensures that the highest scoring individual\n",
    "        is always retained in each round.  \n",
    "        \"\"\"\n",
    "        round_length = round(len(new_parameter_space) / 2)\n",
    "        living = []\n",
    "        temp = [[x, calculate_norm(x, time_series)] for x in new_parameter_space]\n",
    "        temp.sort(key=operator.itemgetter(1))\n",
    "        norms = temp\n",
    "        living.append(norms[0][0])\n",
    "        all_orgs.append(norms[0][0])\n",
    "        running_tally.append(norms[0][1])\n",
    "\n",
    "        \"\"\"\n",
    "        Begin inner loop:\n",
    "        This is the tournament where solutions compete against one another\n",
    "        \"\"\"\n",
    "        for n in range(1, round_length+1):\n",
    "            pair1, pair2, survivor1, survivor2\n",
    "            pair1, pair2 = random.sample(norms,2), random.sample(norms,2)\n",
    "            pair1.sort(key=operator.itemgetter(1))\n",
    "            pair2.sort(key=operator.itemgetter(1))\n",
    "            survivor1 = pair1[0][0]\n",
    "            survivor2 = pair2[0][0]\n",
    "            [living.append(x) for x in random_crossover(survivor1, survivor2)]\n",
    "        \n",
    "        # End inner loop\n",
    "\n",
    "        # Apply mutation operators to population\n",
    "        global temp_living\n",
    "        temp_living = []\n",
    "        for n in range(0, len(living)-1):\n",
    "            temp_living.append([random_mutation(x,n) for n,x in enumerate(living[n])])\n",
    "\n",
    "        living = temp_living\n",
    "        total_solutions += len(living)\n",
    "        \n",
    "        # Summary grid for current round\n",
    "        make_grid(num_rounds, running_tally)"
   ]
  },
  {
   "cell_type": "code",
   "execution_count": 220,
   "metadata": {},
   "outputs": [
    {
     "data": {
      "image/png": "[encoded data removed]",
      "text/plain": [
       "<Figure size 432x288 with 1 Axes>"
      ]
     },
     "metadata": {},
     "output_type": "display_data"
    },
    {
     "ename": "KeyboardInterrupt",
     "evalue": "",
     "output_type": "error",
     "traceback": [
      "\u001b[0;31m---------------------------------------------------------------------------\u001b[0m",
      "\u001b[0;31mKeyboardInterrupt\u001b[0m                         Traceback (most recent call last)",
      "\u001b[0;32m<ipython-input-220-41c7fae9eba8>\u001b[0m in \u001b[0;36m<module>\u001b[0;34m()\u001b[0m\n\u001b[0;32m----> 1\u001b[0;31m \u001b[0mion_channel_fit\u001b[0m\u001b[0;34m(\u001b[0m\u001b[0mpatch_clamp_data\u001b[0m\u001b[0;34m)\u001b[0m\u001b[0;34m\u001b[0m\u001b[0m\n\u001b[0m",
      "\u001b[0;32m<ipython-input-215-8867778f85b0>\u001b[0m in \u001b[0;36mion_channel_fit\u001b[0;34m(time_series)\u001b[0m\n\u001b[1;32m     43\u001b[0m         \u001b[0mround_length\u001b[0m \u001b[0;34m=\u001b[0m \u001b[0mround\u001b[0m\u001b[0;34m(\u001b[0m\u001b[0mlen\u001b[0m\u001b[0;34m(\u001b[0m\u001b[0mnew_parameter_space\u001b[0m\u001b[0;34m)\u001b[0m \u001b[0;34m/\u001b[0m \u001b[0;36m2\u001b[0m\u001b[0;34m)\u001b[0m\u001b[0;34m\u001b[0m\u001b[0m\n\u001b[1;32m     44\u001b[0m         \u001b[0mliving\u001b[0m \u001b[0;34m=\u001b[0m \u001b[0;34m[\u001b[0m\u001b[0;34m]\u001b[0m\u001b[0;34m\u001b[0m\u001b[0m\n\u001b[0;32m---> 45\u001b[0;31m         \u001b[0mtemp\u001b[0m \u001b[0;34m=\u001b[0m \u001b[0;34m[\u001b[0m\u001b[0;34m[\u001b[0m\u001b[0mx\u001b[0m\u001b[0;34m,\u001b[0m \u001b[0mcalculate_norm\u001b[0m\u001b[0;34m(\u001b[0m\u001b[0mx\u001b[0m\u001b[0;34m,\u001b[0m \u001b[0mtime_series\u001b[0m\u001b[0;34m)\u001b[0m\u001b[0;34m]\u001b[0m \u001b[0;32mfor\u001b[0m \u001b[0mx\u001b[0m \u001b[0;32min\u001b[0m \u001b[0mnew_parameter_space\u001b[0m\u001b[0;34m]\u001b[0m\u001b[0;34m\u001b[0m\u001b[0m\n\u001b[0m\u001b[1;32m     46\u001b[0m         \u001b[0mtemp\u001b[0m\u001b[0;34m.\u001b[0m\u001b[0msort\u001b[0m\u001b[0;34m(\u001b[0m\u001b[0mkey\u001b[0m\u001b[0;34m=\u001b[0m\u001b[0moperator\u001b[0m\u001b[0;34m.\u001b[0m\u001b[0mitemgetter\u001b[0m\u001b[0;34m(\u001b[0m\u001b[0;36m1\u001b[0m\u001b[0;34m)\u001b[0m\u001b[0;34m)\u001b[0m\u001b[0;34m\u001b[0m\u001b[0m\n\u001b[1;32m     47\u001b[0m         \u001b[0mnorms\u001b[0m \u001b[0;34m=\u001b[0m \u001b[0mtemp\u001b[0m\u001b[0;34m\u001b[0m\u001b[0m\n",
      "\u001b[0;32m<ipython-input-215-8867778f85b0>\u001b[0m in \u001b[0;36m<listcomp>\u001b[0;34m(.0)\u001b[0m\n\u001b[1;32m     43\u001b[0m         \u001b[0mround_length\u001b[0m \u001b[0;34m=\u001b[0m \u001b[0mround\u001b[0m\u001b[0;34m(\u001b[0m\u001b[0mlen\u001b[0m\u001b[0;34m(\u001b[0m\u001b[0mnew_parameter_space\u001b[0m\u001b[0;34m)\u001b[0m \u001b[0;34m/\u001b[0m \u001b[0;36m2\u001b[0m\u001b[0;34m)\u001b[0m\u001b[0;34m\u001b[0m\u001b[0m\n\u001b[1;32m     44\u001b[0m         \u001b[0mliving\u001b[0m \u001b[0;34m=\u001b[0m \u001b[0;34m[\u001b[0m\u001b[0;34m]\u001b[0m\u001b[0;34m\u001b[0m\u001b[0m\n\u001b[0;32m---> 45\u001b[0;31m         \u001b[0mtemp\u001b[0m \u001b[0;34m=\u001b[0m \u001b[0;34m[\u001b[0m\u001b[0;34m[\u001b[0m\u001b[0mx\u001b[0m\u001b[0;34m,\u001b[0m \u001b[0mcalculate_norm\u001b[0m\u001b[0;34m(\u001b[0m\u001b[0mx\u001b[0m\u001b[0;34m,\u001b[0m \u001b[0mtime_series\u001b[0m\u001b[0;34m)\u001b[0m\u001b[0;34m]\u001b[0m \u001b[0;32mfor\u001b[0m \u001b[0mx\u001b[0m \u001b[0;32min\u001b[0m \u001b[0mnew_parameter_space\u001b[0m\u001b[0;34m]\u001b[0m\u001b[0;34m\u001b[0m\u001b[0m\n\u001b[0m\u001b[1;32m     46\u001b[0m         \u001b[0mtemp\u001b[0m\u001b[0;34m.\u001b[0m\u001b[0msort\u001b[0m\u001b[0;34m(\u001b[0m\u001b[0mkey\u001b[0m\u001b[0;34m=\u001b[0m\u001b[0moperator\u001b[0m\u001b[0;34m.\u001b[0m\u001b[0mitemgetter\u001b[0m\u001b[0;34m(\u001b[0m\u001b[0;36m1\u001b[0m\u001b[0;34m)\u001b[0m\u001b[0;34m)\u001b[0m\u001b[0;34m\u001b[0m\u001b[0m\n\u001b[1;32m     47\u001b[0m         \u001b[0mnorms\u001b[0m \u001b[0;34m=\u001b[0m \u001b[0mtemp\u001b[0m\u001b[0;34m\u001b[0m\u001b[0m\n",
      "\u001b[0;32m<ipython-input-208-228482fc7377>\u001b[0m in \u001b[0;36mcalculate_norm\u001b[0;34m(params, time_series)\u001b[0m\n\u001b[1;32m     30\u001b[0m     \u001b[0mdata_range\u001b[0m \u001b[0;34m=\u001b[0m \u001b[0mpatch_clamp_data\u001b[0m\u001b[0;34m[\u001b[0m\u001b[0;34m:\u001b[0m\u001b[0;34m,\u001b[0m\u001b[0;34m:\u001b[0m\u001b[0;36m1\u001b[0m\u001b[0;34m]\u001b[0m\u001b[0;34m\u001b[0m\u001b[0m\n\u001b[1;32m     31\u001b[0m     \u001b[0mdata_values\u001b[0m \u001b[0;34m=\u001b[0m \u001b[0;34m[\u001b[0m\u001b[0mx\u001b[0m\u001b[0;34m[\u001b[0m\u001b[0;36m1\u001b[0m\u001b[0;34m]\u001b[0m \u001b[0;32mfor\u001b[0m \u001b[0mx\u001b[0m \u001b[0;32min\u001b[0m \u001b[0mpatch_clamp_data\u001b[0m\u001b[0;34m]\u001b[0m\u001b[0;34m\u001b[0m\u001b[0m\n\u001b[0;32m---> 32\u001b[0;31m     \u001b[0mappend_values\u001b[0m \u001b[0;34m=\u001b[0m \u001b[0;34m[\u001b[0m\u001b[0mnp\u001b[0m\u001b[0;34m.\u001b[0m\u001b[0minsert\u001b[0m\u001b[0;34m(\u001b[0m\u001b[0mparams\u001b[0m\u001b[0;34m,\u001b[0m \u001b[0;36m4\u001b[0m\u001b[0;34m,\u001b[0m \u001b[0mx\u001b[0m\u001b[0;34m,\u001b[0m \u001b[0maxis\u001b[0m\u001b[0;34m=\u001b[0m\u001b[0;36m0\u001b[0m\u001b[0;34m)\u001b[0m \u001b[0;32mfor\u001b[0m \u001b[0mx\u001b[0m \u001b[0;32min\u001b[0m \u001b[0mdata_range\u001b[0m\u001b[0;34m]\u001b[0m\u001b[0;34m\u001b[0m\u001b[0m\n\u001b[0m\u001b[1;32m     33\u001b[0m     \u001b[0mtest_values\u001b[0m \u001b[0;34m=\u001b[0m \u001b[0;34m[\u001b[0m\u001b[0mi\u001b[0m\u001b[0;34m(\u001b[0m\u001b[0mx\u001b[0m\u001b[0;34m[\u001b[0m\u001b[0;36m0\u001b[0m\u001b[0;34m]\u001b[0m\u001b[0;34m,\u001b[0m \u001b[0mx\u001b[0m\u001b[0;34m[\u001b[0m\u001b[0;36m1\u001b[0m\u001b[0;34m]\u001b[0m\u001b[0;34m,\u001b[0m \u001b[0mx\u001b[0m\u001b[0;34m[\u001b[0m\u001b[0;36m2\u001b[0m\u001b[0;34m]\u001b[0m\u001b[0;34m,\u001b[0m \u001b[0mx\u001b[0m\u001b[0;34m[\u001b[0m\u001b[0;36m3\u001b[0m\u001b[0;34m]\u001b[0m\u001b[0;34m,\u001b[0m \u001b[0mx\u001b[0m\u001b[0;34m[\u001b[0m\u001b[0;36m4\u001b[0m\u001b[0;34m]\u001b[0m\u001b[0;34m)\u001b[0m \u001b[0;32mfor\u001b[0m \u001b[0mx\u001b[0m \u001b[0;32min\u001b[0m \u001b[0mappend_values\u001b[0m\u001b[0;34m]\u001b[0m\u001b[0;34m\u001b[0m\u001b[0m\n\u001b[1;32m     34\u001b[0m     \u001b[0;32mreturn\u001b[0m \u001b[0mcost_func\u001b[0m\u001b[0;34m(\u001b[0m\u001b[0mtest_values\u001b[0m\u001b[0;34m,\u001b[0m \u001b[0mdata_values\u001b[0m\u001b[0;34m)\u001b[0m\u001b[0;34m\u001b[0m\u001b[0m\n",
      "\u001b[0;32m<ipython-input-208-228482fc7377>\u001b[0m in \u001b[0;36m<listcomp>\u001b[0;34m(.0)\u001b[0m\n\u001b[1;32m     30\u001b[0m     \u001b[0mdata_range\u001b[0m \u001b[0;34m=\u001b[0m \u001b[0mpatch_clamp_data\u001b[0m\u001b[0;34m[\u001b[0m\u001b[0;34m:\u001b[0m\u001b[0;34m,\u001b[0m\u001b[0;34m:\u001b[0m\u001b[0;36m1\u001b[0m\u001b[0;34m]\u001b[0m\u001b[0;34m\u001b[0m\u001b[0m\n\u001b[1;32m     31\u001b[0m     \u001b[0mdata_values\u001b[0m \u001b[0;34m=\u001b[0m \u001b[0;34m[\u001b[0m\u001b[0mx\u001b[0m\u001b[0;34m[\u001b[0m\u001b[0;36m1\u001b[0m\u001b[0;34m]\u001b[0m \u001b[0;32mfor\u001b[0m \u001b[0mx\u001b[0m \u001b[0;32min\u001b[0m \u001b[0mpatch_clamp_data\u001b[0m\u001b[0;34m]\u001b[0m\u001b[0;34m\u001b[0m\u001b[0m\n\u001b[0;32m---> 32\u001b[0;31m     \u001b[0mappend_values\u001b[0m \u001b[0;34m=\u001b[0m \u001b[0;34m[\u001b[0m\u001b[0mnp\u001b[0m\u001b[0;34m.\u001b[0m\u001b[0minsert\u001b[0m\u001b[0;34m(\u001b[0m\u001b[0mparams\u001b[0m\u001b[0;34m,\u001b[0m \u001b[0;36m4\u001b[0m\u001b[0;34m,\u001b[0m \u001b[0mx\u001b[0m\u001b[0;34m,\u001b[0m \u001b[0maxis\u001b[0m\u001b[0;34m=\u001b[0m\u001b[0;36m0\u001b[0m\u001b[0;34m)\u001b[0m \u001b[0;32mfor\u001b[0m \u001b[0mx\u001b[0m \u001b[0;32min\u001b[0m \u001b[0mdata_range\u001b[0m\u001b[0;34m]\u001b[0m\u001b[0;34m\u001b[0m\u001b[0m\n\u001b[0m\u001b[1;32m     33\u001b[0m     \u001b[0mtest_values\u001b[0m \u001b[0;34m=\u001b[0m \u001b[0;34m[\u001b[0m\u001b[0mi\u001b[0m\u001b[0;34m(\u001b[0m\u001b[0mx\u001b[0m\u001b[0;34m[\u001b[0m\u001b[0;36m0\u001b[0m\u001b[0;34m]\u001b[0m\u001b[0;34m,\u001b[0m \u001b[0mx\u001b[0m\u001b[0;34m[\u001b[0m\u001b[0;36m1\u001b[0m\u001b[0;34m]\u001b[0m\u001b[0;34m,\u001b[0m \u001b[0mx\u001b[0m\u001b[0;34m[\u001b[0m\u001b[0;36m2\u001b[0m\u001b[0;34m]\u001b[0m\u001b[0;34m,\u001b[0m \u001b[0mx\u001b[0m\u001b[0;34m[\u001b[0m\u001b[0;36m3\u001b[0m\u001b[0;34m]\u001b[0m\u001b[0;34m,\u001b[0m \u001b[0mx\u001b[0m\u001b[0;34m[\u001b[0m\u001b[0;36m4\u001b[0m\u001b[0;34m]\u001b[0m\u001b[0;34m)\u001b[0m \u001b[0;32mfor\u001b[0m \u001b[0mx\u001b[0m \u001b[0;32min\u001b[0m \u001b[0mappend_values\u001b[0m\u001b[0;34m]\u001b[0m\u001b[0;34m\u001b[0m\u001b[0m\n\u001b[1;32m     34\u001b[0m     \u001b[0;32mreturn\u001b[0m \u001b[0mcost_func\u001b[0m\u001b[0;34m(\u001b[0m\u001b[0mtest_values\u001b[0m\u001b[0;34m,\u001b[0m \u001b[0mdata_values\u001b[0m\u001b[0;34m)\u001b[0m\u001b[0;34m\u001b[0m\u001b[0m\n",
      "\u001b[0;32m~/anaconda/envs/python35/lib/python3.5/site-packages/numpy/lib/function_base.py\u001b[0m in \u001b[0;36minsert\u001b[0;34m(arr, obj, values, axis)\u001b[0m\n\u001b[1;32m   5069\u001b[0m         \u001b[0mnew\u001b[0m \u001b[0;34m=\u001b[0m \u001b[0mempty\u001b[0m\u001b[0;34m(\u001b[0m\u001b[0mnewshape\u001b[0m\u001b[0;34m,\u001b[0m \u001b[0marr\u001b[0m\u001b[0;34m.\u001b[0m\u001b[0mdtype\u001b[0m\u001b[0;34m,\u001b[0m \u001b[0marrorder\u001b[0m\u001b[0;34m)\u001b[0m\u001b[0;34m\u001b[0m\u001b[0m\n\u001b[1;32m   5070\u001b[0m         \u001b[0mslobj\u001b[0m\u001b[0;34m[\u001b[0m\u001b[0maxis\u001b[0m\u001b[0;34m]\u001b[0m \u001b[0;34m=\u001b[0m \u001b[0mslice\u001b[0m\u001b[0;34m(\u001b[0m\u001b[0;32mNone\u001b[0m\u001b[0;34m,\u001b[0m \u001b[0mindex\u001b[0m\u001b[0;34m)\u001b[0m\u001b[0;34m\u001b[0m\u001b[0m\n\u001b[0;32m-> 5071\u001b[0;31m         \u001b[0mnew\u001b[0m\u001b[0;34m[\u001b[0m\u001b[0mslobj\u001b[0m\u001b[0;34m]\u001b[0m \u001b[0;34m=\u001b[0m \u001b[0marr\u001b[0m\u001b[0;34m[\u001b[0m\u001b[0mslobj\u001b[0m\u001b[0;34m]\u001b[0m\u001b[0;34m\u001b[0m\u001b[0m\n\u001b[0m\u001b[1;32m   5072\u001b[0m         \u001b[0mslobj\u001b[0m\u001b[0;34m[\u001b[0m\u001b[0maxis\u001b[0m\u001b[0;34m]\u001b[0m \u001b[0;34m=\u001b[0m \u001b[0mslice\u001b[0m\u001b[0;34m(\u001b[0m\u001b[0mindex\u001b[0m\u001b[0;34m,\u001b[0m \u001b[0mindex\u001b[0m\u001b[0;34m+\u001b[0m\u001b[0mnumnew\u001b[0m\u001b[0;34m)\u001b[0m\u001b[0;34m\u001b[0m\u001b[0m\n\u001b[1;32m   5073\u001b[0m         \u001b[0mnew\u001b[0m\u001b[0;34m[\u001b[0m\u001b[0mslobj\u001b[0m\u001b[0;34m]\u001b[0m \u001b[0;34m=\u001b[0m \u001b[0mvalues\u001b[0m\u001b[0;34m\u001b[0m\u001b[0m\n",
      "\u001b[0;31mKeyboardInterrupt\u001b[0m: "
     ]
    },
    {
     "data": {
      "image/png": "[encoded data removed]",
      "text/plain": [
       "<Figure size 432x288 with 1 Axes>"
      ]
     },
     "metadata": {},
     "output_type": "display_data"
    }
   ],
   "source": [
    "ion_channel_fit(patch_clamp_data)"
   ]
  },
  {
   "cell_type": "code",
   "execution_count": 224,
   "metadata": {},
   "outputs": [],
   "source": [
    "all_orgs.sort(key=operator.itemgetter(1))"
   ]
  },
  {
   "cell_type": "code",
   "execution_count": 227,
   "metadata": {},
   "outputs": [
    {
     "data": {
      "text/plain": [
       "[4.8229912071156225,\n",
       " 3.4951548710328697,\n",
       " 2.5623360590460105,\n",
       " 2.898097725074769,\n",
       " 3.6046755978141367,\n",
       " 4.990286181822435,\n",
       " 3.3722922539134017,\n",
       " 4.498469139708022,\n",
       " 2.9959472140665113,\n",
       " 4.261336664793533,\n",
       " 5.06741163432919,\n",
       " 3.731758067429098,\n",
       " 2.3414145349473463,\n",
       " 2.7671605301551714,\n",
       " 4.602305625534897,\n",
       " 3.1860134245732925,\n",
       " 3.39200102745679,\n",
       " 3.349457892114768,\n",
       " 3.485466847452426,\n",
       " 4.2921130223426385,\n",
       " 4.781858734541925,\n",
       " 3.1472881442136287,\n",
       " 2.489403362670007,\n",
       " 3.342680803772706,\n",
       " 4.725797327687613,\n",
       " 3.7104297660897236,\n",
       " 3.86970823223431,\n",
       " 4.0115615477779185,\n",
       " 3.371180885251043,\n",
       " 2.4441691222579047,\n",
       " 2.918837899874331,\n",
       " 3.0399034725324974,\n",
       " 4.574244252910674,\n",
       " 3.571203451668699,\n",
       " 2.894167823450506,\n",
       " 3.8623125850829543,\n",
       " 3.385052333871435,\n",
       " 6.207226584485604,\n",
       " 3.5305748232078757,\n",
       " 3.6367895217393222,\n",
       " 2.9042086459853924,\n",
       " 3.4003027113791595,\n",
       " 2.59635308897488,\n",
       " 2.8471952804434992,\n",
       " 3.6914389000301955,\n",
       " 3.2471306484254794,\n",
       " 3.135677466305272,\n",
       " 3.675248224557606,\n",
       " 3.6098930716510647,\n",
       " 2.2009154988546915,\n",
       " 5.292966162645279,\n",
       " 4.938540920815905,\n",
       " 3.7374202725194716,\n",
       " 4.025398268133705,\n",
       " 2.6276683912923176,\n",
       " 2.8224208033684968,\n",
       " 2.530608313020833,\n",
       " 3.1825225708577043,\n",
       " 2.8843294678151485,\n",
       " 3.4312702950677134,\n",
       " 3.8265831945228355,\n",
       " 2.8718787457235115,\n",
       " 4.320759828602188,\n",
       " 5.903990046261994,\n",
       " 3.6784133856047623,\n",
       " 3.873976013334896,\n",
       " 3.511126261724901,\n",
       " 2.686445622213004,\n",
       " 3.4522684145337985,\n",
       " 2.0136845467972635,\n",
       " 4.242248798084066,\n",
       " 2.657950263984927,\n",
       " 2.0587738441392904,\n",
       " 5.718095492213045,\n",
       " 4.0960422330815485]"
      ]
     },
     "execution_count": 227,
     "metadata": {},
     "output_type": "execute_result"
    }
   ],
   "source": [
    "running_tally"
   ]
  },
  {
   "cell_type": "code",
   "execution_count": null,
   "metadata": {},
   "outputs": [],
   "source": []
  }
 ],
 "metadata": {
  "kernelspec": {
   "display_name": "Python 3",
   "language": "python",
   "name": "python3"
  },
  "language_info": {
   "codemirror_mode": {
    "name": "ipython",
    "version": 3
   },
   "file_extension": ".py",
   "mimetype": "text/x-python",
   "name": "python",
   "nbconvert_exporter": "python",
   "pygments_lexer": "ipython3",
   "version": "3.5.5"
  }
 },
 "nbformat": 4,
 "nbformat_minor": 2
}
